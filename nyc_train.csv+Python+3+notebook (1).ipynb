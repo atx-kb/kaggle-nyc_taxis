{
 "cells": [
  {
   "cell_type": "code",
   "execution_count": 1,
   "metadata": {},
   "outputs": [
    {
     "name": "stderr",
     "output_type": "stream",
     "text": [
      "/home/nbuser/anaconda3_23/lib/python3.4/site-packages/IPython/html.py:14: ShimWarning: The `IPython.html` package has been deprecated. You should import from `notebook` instead. `IPython.html.widgets` has moved to `ipywidgets`.\n",
      "  \"`IPython.html.widgets` has moved to `ipywidgets`.\", ShimWarning)\n"
     ]
    }
   ],
   "source": [
    "import numpy as np\n",
    "import pandas as pd\n",
    "import math\n",
    "\n",
    "import seaborn as sns\n",
    "import matplotlib.pyplot as plt\n",
    "plt.style.use('ggplot')\n",
    "%matplotlib inline\n",
    "\n",
    "from sklearn.cluster import KMeans\n",
    "from sklearn.preprocessing import StandardScaler, PolynomialFeatures\n",
    "from sklearn.linear_model import ElasticNet\n",
    "from sklearn.ensemble import GradientBoostingRegressor\n",
    "from sklearn.pipeline import Pipeline\n",
    "from sklearn.model_selection import cross_val_score\n",
    "\n",
    "\n",
    "from azureml import Workspace"
   ]
  },
  {
   "cell_type": "code",
   "execution_count": 2,
   "metadata": {},
   "outputs": [],
   "source": [
    "ws = Workspace()\n",
    "train = ws.datasets['nyc_train.csv']\n",
    "train = train.to_dataframe()\n",
    "test = ws.datasets['nyc_test.csv']\n",
    "test = test.to_dataframe()"
   ]
  },
  {
   "cell_type": "code",
   "execution_count": 3,
   "metadata": {},
   "outputs": [],
   "source": [
    "train['vendor_id'] = train.vendor_id.map({1:'a', 2:'b'}).astype('category')\n",
    "train['store_and_fwd_flag'] = (train.store_and_fwd_flag == 'Y').astype('int')\n",
    "train['pickup_datetime'] = pd.to_datetime(train.pickup_datetime)\n",
    "train.drop('dropoff_datetime', axis=1, inplace=True)\n",
    "train['pickup_month'] = train.pickup_datetime.dt.strftime('%b').astype('category')\n",
    "train['pickup_dayofmonth'] = train.pickup_datetime.dt.strftime('%d').astype('category')\n",
    "train['pickup_dayofweek'] = train.pickup_datetime.dt.strftime('%a').astype('category')\n",
    "train['pickup_hourofday'] = train.pickup_datetime.dt.strftime('%H').astype('category')\n",
    "train['pickup_minuteofhour'] = train.pickup_datetime.dt.strftime('%M').astype('category')\n",
    "earth_radius = 6371\n",
    "nyc_lat = math.radians(40.7)\n",
    "lon_dist = abs(train.dropoff_longitude - train.pickup_longitude)\n",
    "lat_dist = abs(train.dropoff_latitude - train.pickup_latitude)\n",
    "lon_dist = [math.radians(i) for i in lon_dist]\n",
    "lat_dist = [math.radians(j) for j in lat_dist]\n",
    "lon_dist = [earth_radius * math.cos(nyc_lat) * i for i in lon_dist]\n",
    "lat_dist = [earth_radius * j for j in lat_dist]\n",
    "train['man_dist'] = [i + j for i,j in zip(lon_dist, lat_dist)]\n",
    "train = train[train.trip_duration < 500000]\n",
    "train['avg_speed'] = train.man_dist / (train.trip_duration / 3600)\n",
    "train = train[train.avg_speed < 120]\n",
    "train = train[\n",
    "    (train.pickup_longitude > -74.2) & (train.pickup_longitude < -73.7) & \n",
    "    (train.dropoff_longitude > -74.2) & (train.dropoff_longitude < -73.7) & \n",
    "    (train.pickup_latitude > 40.6) & (train.pickup_latitude < 40.9) & \n",
    "    (train.dropoff_latitude > 40.6) & (train.dropoff_latitude < 40.9)\n",
    "]\n",
    "\n",
    "test['vendor_id'] = test.vendor_id.map({1:'a', 2:'b'}).astype('category')\n",
    "test['store_and_fwd_flag'] = (test.store_and_fwd_flag == 'Y').astype('int')\n",
    "test['pickup_datetime'] = pd.to_datetime(test.pickup_datetime)\n",
    "test['pickup_month'] = test.pickup_datetime.dt.strftime('%b').astype('category')\n",
    "test['pickup_dayofmonth'] = test.pickup_datetime.dt.strftime('%d').astype('category')\n",
    "test['pickup_dayofweek'] = test.pickup_datetime.dt.strftime('%a').astype('category')\n",
    "test['pickup_hourofday'] = test.pickup_datetime.dt.strftime('%H').astype('category')\n",
    "test['pickup_minuteofhour'] = test.pickup_datetime.dt.strftime('%M').astype('category')\n",
    "lon_dist = abs(test.dropoff_longitude - test.pickup_longitude)\n",
    "lat_dist = abs(test.dropoff_latitude - test.pickup_latitude)\n",
    "lon_dist = [math.radians(i) for i in lon_dist]\n",
    "lat_dist = [math.radians(j) for j in lat_dist]\n",
    "lon_dist = [earth_radius * math.cos(nyc_lat) * i for i in lon_dist]\n",
    "lat_dist = [earth_radius * j for j in lat_dist]\n",
    "test['man_dist'] = [i + j for i,j in zip(lon_dist, lat_dist)]"
   ]
  },
  {
   "cell_type": "code",
   "execution_count": 4,
   "metadata": {},
   "outputs": [],
   "source": [
    "km_pickup = KMeans(n_clusters=25)\n",
    "km_pickup.fit(train[['pickup_longitude', 'pickup_latitude']])\n",
    "train['pickup_hood'] = km_pickup.labels_\n",
    "test['pickup_hood'] = km_pickup.predict(test[['pickup_longitude', 'pickup_latitude']])\n",
    "\n",
    "km_dropoff = KMeans(n_clusters=25)\n",
    "km_dropoff.fit(train[['dropoff_longitude', 'dropoff_latitude']])\n",
    "train['dropoff_hood'] = km_dropoff.labels_\n",
    "test['dropoff_hood'] = km_pickup.predict(test[['dropoff_longitude', 'dropoff_latitude']])\n",
    "\n",
    "train['pickup_hood'] = train.pickup_hood.astype('category')\n",
    "train['dropoff_hood'] = train.dropoff_hood.astype('category')\n",
    "test['pickup_hood'] = test.pickup_hood.astype('category')\n",
    "test['dropoff_hood'] = test.dropoff_hood.astype('category')"
   ]
  },
  {
   "cell_type": "code",
   "execution_count": 5,
   "metadata": {
    "collapsed": true
   },
   "outputs": [],
   "source": [
    "test_subset = test[\n",
    "    (test.pickup_longitude > -74.2) & (test.pickup_longitude < -73.7) & \n",
    "    (test.dropoff_longitude > -74.2) & (test.dropoff_longitude < -73.7) & \n",
    "    (test.pickup_latitude > 40.6) & (test.pickup_latitude < 40.9) & \n",
    "    (test.dropoff_latitude > 40.6) & (test.dropoff_latitude < 40.9)\n",
    "]"
   ]
  },
  {
   "cell_type": "code",
   "execution_count": 6,
   "metadata": {},
   "outputs": [],
   "source": [
    "# fig, ax = plt.subplots(2, 2, figsize=(64,40))\n",
    "# ax[0,0].scatter(train.pickup_longitude, train.pickup_latitude, c=train.pickup_hood, s=0.1, cmap='viridis')\n",
    "# ax[0,0].set_title('pickup_train')\n",
    "# ax[0,1].scatter(test_subset.pickup_longitude, test_subset.pickup_latitude, c=test_subset.pickup_hood, s=0.1, cmap='viridis')\n",
    "# ax[0,1].set_title('pickup_test')\n",
    "# ax[1,0].scatter(train.dropoff_longitude, train.dropoff_latitude, c=train.dropoff_hood, s=0.1, cmap='viridis')\n",
    "# ax[1,0].set_title('dropoff_train')\n",
    "# ax[1,1].scatter(test_subset.dropoff_longitude, test_subset.dropoff_latitude, c=test_subset.dropoff_hood, s=0.1, cmap='viridis')\n",
    "# ax[1,1].set_title('dropoff_test')"
   ]
  },
  {
   "cell_type": "code",
   "execution_count": 7,
   "metadata": {},
   "outputs": [],
   "source": [
    "X_train = train.id\n",
    "X_train = pd.concat([X_train, pd.get_dummies(train.vendor_id)], axis=1)\n",
    "X_train = pd.concat([X_train, pd.get_dummies(train.pickup_hood)], axis=1)\n",
    "X_train = pd.concat([X_train, pd.get_dummies(train.dropoff_hood)], axis=1)\n",
    "X_train = pd.concat([X_train, pd.get_dummies(train.pickup_month)], axis=1)\n",
    "X_train = pd.concat([X_train, pd.get_dummies(train.pickup_dayofmonth)], axis=1)\n",
    "X_train = pd.concat([X_train, pd.get_dummies(train.pickup_dayofweek)], axis=1)\n",
    "X_train = pd.concat([X_train, pd.get_dummies(train.pickup_hourofday)], axis=1)\n",
    "\n",
    "X_test = test.id\n",
    "X_test = pd.concat([X_test, pd.get_dummies(test.vendor_id)], axis=1)\n",
    "X_test = pd.concat([X_test, pd.get_dummies(test.pickup_hood)], axis=1)\n",
    "X_test = pd.concat([X_test, pd.get_dummies(test.dropoff_hood)], axis=1)\n",
    "X_test = pd.concat([X_test, pd.get_dummies(test.pickup_month)], axis=1)\n",
    "X_test = pd.concat([X_test, pd.get_dummies(test.pickup_dayofmonth)], axis=1)\n",
    "X_test = pd.concat([X_test, pd.get_dummies(test.pickup_dayofweek)], axis=1)\n",
    "X_test = pd.concat([X_test, pd.get_dummies(test.pickup_hourofday)], axis=1)"
   ]
  },
  {
   "cell_type": "code",
   "execution_count": 8,
   "metadata": {
    "collapsed": true
   },
   "outputs": [],
   "source": [
    "y_train = train.trip_duration"
   ]
  },
  {
   "cell_type": "code",
   "execution_count": 9,
   "metadata": {
    "collapsed": true
   },
   "outputs": [],
   "source": [
    "ss = StandardScaler()\n",
    "pf = PolynomialFeatures()\n",
    "lr = ElasticNet()\n",
    "\n",
    "pipe = Pipeline([\n",
    "    ('ss', ss),\n",
    "#     ('pf', pf),\n",
    "    ('lr', lr)\n",
    "])"
   ]
  },
  {
   "cell_type": "code",
   "execution_count": 10,
   "metadata": {},
   "outputs": [
    {
     "data": {
      "text/plain": [
       "array([ 0.01510559,  0.01460887,  0.01546304])"
      ]
     },
     "execution_count": 10,
     "metadata": {},
     "output_type": "execute_result"
    }
   ],
   "source": [
    "cross_val_score(pipe, X_train.drop('id', axis=1), y_train)"
   ]
  },
  {
   "cell_type": "code",
   "execution_count": 12,
   "metadata": {},
   "outputs": [],
   "source": [
    "pipe.fit(X_train.drop('id', axis=1), y_train)\n",
    "preds = pipe.predict(X_test.drop('id', axis=1))"
   ]
  },
  {
   "cell_type": "code",
   "execution_count": 25,
   "metadata": {},
   "outputs": [
    {
     "ename": "TypeError",
     "evalue": "list indices must be integers, not numpy.float64",
     "output_type": "error",
     "traceback": [
      "\u001b[0;31m---------------------------------------------------------------------------\u001b[0m",
      "\u001b[0;31mTypeError\u001b[0m                                 Traceback (most recent call last)",
      "\u001b[0;32m<ipython-input-25-7c02bf732cd0>\u001b[0m in \u001b[0;36m<module>\u001b[0;34m()\u001b[0m\n\u001b[0;32m----> 1\u001b[0;31m \u001b[0mpreds\u001b[0m \u001b[0;34m=\u001b[0m \u001b[0;34m[\u001b[0m\u001b[0mmax\u001b[0m\u001b[0;34m(\u001b[0m\u001b[0;36m0\u001b[0m\u001b[0;34m,\u001b[0m \u001b[0mpreds\u001b[0m\u001b[0;34m[\u001b[0m\u001b[0mi\u001b[0m\u001b[0;34m]\u001b[0m\u001b[0;34m)\u001b[0m \u001b[0;32mfor\u001b[0m \u001b[0mi\u001b[0m \u001b[0;32min\u001b[0m \u001b[0mpreds\u001b[0m\u001b[0;34m]\u001b[0m\u001b[0;34m\u001b[0m\u001b[0m\n\u001b[0m",
      "\u001b[0;32m<ipython-input-25-7c02bf732cd0>\u001b[0m in \u001b[0;36m<listcomp>\u001b[0;34m(.0)\u001b[0m\n\u001b[0;32m----> 1\u001b[0;31m \u001b[0mpreds\u001b[0m \u001b[0;34m=\u001b[0m \u001b[0;34m[\u001b[0m\u001b[0mmax\u001b[0m\u001b[0;34m(\u001b[0m\u001b[0;36m0\u001b[0m\u001b[0;34m,\u001b[0m \u001b[0mpreds\u001b[0m\u001b[0;34m[\u001b[0m\u001b[0mi\u001b[0m\u001b[0;34m]\u001b[0m\u001b[0;34m)\u001b[0m \u001b[0;32mfor\u001b[0m \u001b[0mi\u001b[0m \u001b[0;32min\u001b[0m \u001b[0mpreds\u001b[0m\u001b[0;34m]\u001b[0m\u001b[0;34m\u001b[0m\u001b[0m\n\u001b[0m",
      "\u001b[0;31mTypeError\u001b[0m: list indices must be integers, not numpy.float64"
     ]
    }
   ],
   "source": [
    "preds = [max(0, preds[i]) for i in preds]"
   ]
  },
  {
   "cell_type": "code",
   "execution_count": 27,
   "metadata": {},
   "outputs": [
    {
     "name": "stderr",
     "output_type": "stream",
     "text": [
      "/home/nbuser/anaconda3_23/lib/python3.4/site-packages/IPython/kernel/__main__.py:2: SettingWithCopyWarning: \n",
      "A value is trying to be set on a copy of a slice from a DataFrame.\n",
      "Try using .loc[row_indexer,col_indexer] = value instead\n",
      "\n",
      "See the caveats in the documentation: http://pandas.pydata.org/pandas-docs/stable/indexing.html#indexing-view-versus-copy\n",
      "  from ipykernel import kernelapp as app\n"
     ]
    }
   ],
   "source": [
    "submission = test[['id']]\n",
    "submission['trip_duration'] = preds\n",
    "submission.to_csv('submission.csv', index=False)"
   ]
  },
  {
   "cell_type": "code",
   "execution_count": 28,
   "metadata": {},
   "outputs": [
    {
     "data": {
      "text/plain": [
       "count    625134.000000\n",
       "mean       1362.212390\n",
       "std         407.433622\n",
       "min         565.162939\n",
       "25%        1026.607903\n",
       "50%        1331.512946\n",
       "75%        1602.839515\n",
       "max        3050.195094\n",
       "Name: trip_duration, dtype: float64"
      ]
     },
     "execution_count": 28,
     "metadata": {},
     "output_type": "execute_result"
    }
   ],
   "source": [
    "submission.trip_duration.describe()"
   ]
  },
  {
   "cell_type": "code",
   "execution_count": 29,
   "metadata": {},
   "outputs": [
    {
     "name": "stdout",
     "output_type": "stream",
     "text": [
      "anaconda2_20  anaconda3_23  submission.csv\r\n"
     ]
    }
   ],
   "source": [
    "!ls"
   ]
  },
  {
   "cell_type": "code",
   "execution_count": 30,
   "metadata": {},
   "outputs": [
    {
     "name": "stdout",
     "output_type": "stream",
     "text": [
      "https://transfer.sh/NXj3y/submission.csv"
     ]
    }
   ],
   "source": [
    "!curl --upload-file ./submission.csv https://transfer.sh/submission.csv"
   ]
  },
  {
   "cell_type": "code",
   "execution_count": null,
   "metadata": {
    "collapsed": true
   },
   "outputs": [],
   "source": []
  }
 ],
 "metadata": {
  "kernelspec": {
   "display_name": "Python [default]",
   "language": "python",
   "name": "python3"
  },
  "language_info": {
   "codemirror_mode": {
    "name": "ipython",
    "version": 3
   },
   "file_extension": ".py",
   "mimetype": "text/x-python",
   "name": "python",
   "nbconvert_exporter": "python",
   "pygments_lexer": "ipython3",
   "version": "3.6.2"
  }
 },
 "nbformat": 4,
 "nbformat_minor": 1
}
